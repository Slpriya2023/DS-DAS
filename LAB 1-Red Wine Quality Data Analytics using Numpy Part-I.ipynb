{
 "cells": [
  {
   "cell_type": "markdown",
   "id": "f9bce31c",
   "metadata": {},
   "source": [
    "## Lab1.Red Wine Quality Data Analytics using Numpy Part-I    "
   ]
  },
  {
   "cell_type": "markdown",
   "id": "777b5690",
   "metadata": {},
   "source": [
    "### Name:Harshavardhini K"
   ]
  },
  {
   "cell_type": "markdown",
   "id": "6957a207",
   "metadata": {},
   "source": [
    "### Rollno:235229108"
   ]
  },
  {
   "cell_type": "markdown",
   "id": "648387b3",
   "metadata": {},
   "source": [
    "#### Import modules for numpy"
   ]
  },
  {
   "cell_type": "code",
   "execution_count": 22,
   "id": "21c669c6",
   "metadata": {},
   "outputs": [],
   "source": [
    "import numpy as np"
   ]
  },
  {
   "cell_type": "code",
   "execution_count": 23,
   "id": "c1034929",
   "metadata": {},
   "outputs": [],
   "source": [
    "wines = np.genfromtxt(\"winequality-red.csv\", delimiter=\";\", skip_header=1)"
   ]
  },
  {
   "cell_type": "markdown",
   "id": "4e03aaa0",
   "metadata": {},
   "source": [
    "#### What is its size?"
   ]
  },
  {
   "cell_type": "code",
   "execution_count": 24,
   "id": "d6a21081",
   "metadata": {},
   "outputs": [
    {
     "data": {
      "text/plain": [
       "19188"
      ]
     },
     "execution_count": 24,
     "metadata": {},
     "output_type": "execute_result"
    }
   ],
   "source": [
    "wines.size"
   ]
  },
  {
   "cell_type": "markdown",
   "id": "231f0bcb",
   "metadata": {},
   "source": [
    "#### How many wine data rows here?"
   ]
  },
  {
   "cell_type": "code",
   "execution_count": 25,
   "id": "b5ea23e7",
   "metadata": {},
   "outputs": [
    {
     "data": {
      "text/plain": [
       "1599"
      ]
     },
     "execution_count": 25,
     "metadata": {},
     "output_type": "execute_result"
    }
   ],
   "source": [
    "wines.shape[0]"
   ]
  },
  {
   "cell_type": "markdown",
   "id": "4256409f",
   "metadata": {},
   "source": [
    "#### How many wine data columns here?"
   ]
  },
  {
   "cell_type": "code",
   "execution_count": 26,
   "id": "5ca184bf",
   "metadata": {},
   "outputs": [
    {
     "data": {
      "text/plain": [
       "1599"
      ]
     },
     "execution_count": 26,
     "metadata": {},
     "output_type": "execute_result"
    }
   ],
   "source": [
    "wines.shape[0]"
   ]
  },
  {
   "cell_type": "markdown",
   "id": "c39e03cc",
   "metadata": {},
   "source": [
    "#### How many dimensions?"
   ]
  },
  {
   "cell_type": "code",
   "execution_count": 27,
   "id": "b8dc52e1",
   "metadata": {},
   "outputs": [
    {
     "data": {
      "text/plain": [
       "2"
      ]
     },
     "execution_count": 27,
     "metadata": {},
     "output_type": "execute_result"
    }
   ],
   "source": [
    "wines.ndim"
   ]
  },
  {
   "cell_type": "markdown",
   "id": "686a80e1",
   "metadata": {},
   "source": [
    "#### What is the type of data?\n"
   ]
  },
  {
   "cell_type": "code",
   "execution_count": 28,
   "id": "1e757f0e",
   "metadata": {},
   "outputs": [
    {
     "data": {
      "text/plain": [
       "numpy.ndarray"
      ]
     },
     "execution_count": 28,
     "metadata": {},
     "output_type": "execute_result"
    }
   ],
   "source": [
    "type(wines)"
   ]
  },
  {
   "cell_type": "markdown",
   "id": "49efb02a",
   "metadata": {},
   "source": [
    "#### What is the data type of wines data?"
   ]
  },
  {
   "cell_type": "code",
   "execution_count": 29,
   "id": "5e7901d9",
   "metadata": {},
   "outputs": [
    {
     "data": {
      "text/plain": [
       "dtype('float64')"
      ]
     },
     "execution_count": 29,
     "metadata": {},
     "output_type": "execute_result"
    }
   ],
   "source": [
    "wines.dtype"
   ]
  },
  {
   "cell_type": "markdown",
   "id": "7406ef7f",
   "metadata": {},
   "source": [
    "#### Show top 5 rows"
   ]
  },
  {
   "cell_type": "code",
   "execution_count": 31,
   "id": "6a3ace6b",
   "metadata": {},
   "outputs": [
    {
     "data": {
      "text/plain": [
       "array([[7.400e+00, 7.000e-01, 0.000e+00, 1.900e+00, 7.600e-02, 1.100e+01,\n",
       "        3.400e+01, 9.978e-01, 3.510e+00, 5.600e-01, 9.400e+00, 5.000e+00],\n",
       "       [7.800e+00, 8.800e-01, 0.000e+00, 2.600e+00, 9.800e-02, 2.500e+01,\n",
       "        6.700e+01, 9.968e-01, 3.200e+00, 6.800e-01, 9.800e+00, 5.000e+00],\n",
       "       [7.800e+00, 7.600e-01, 4.000e-02, 2.300e+00, 9.200e-02, 1.500e+01,\n",
       "        5.400e+01, 9.970e-01, 3.260e+00, 6.500e-01, 9.800e+00, 5.000e+00],\n",
       "       [1.120e+01, 2.800e-01, 5.600e-01, 1.900e+00, 7.500e-02, 1.700e+01,\n",
       "        6.000e+01, 9.980e-01, 3.160e+00, 5.800e-01, 9.800e+00, 6.000e+00],\n",
       "       [7.400e+00, 7.000e-01, 0.000e+00, 1.900e+00, 7.600e-02, 1.100e+01,\n",
       "        3.400e+01, 9.978e-01, 3.510e+00, 5.600e-01, 9.400e+00, 5.000e+00]])"
      ]
     },
     "execution_count": 31,
     "metadata": {},
     "output_type": "execute_result"
    }
   ],
   "source": [
    "wines[:5, :]"
   ]
  },
  {
   "cell_type": "markdown",
   "id": "9f469bac",
   "metadata": {},
   "source": [
    "#### What is the value at 3rd row, 4th column of wine data?"
   ]
  },
  {
   "cell_type": "code",
   "execution_count": 32,
   "id": "4b126168",
   "metadata": {},
   "outputs": [
    {
     "data": {
      "text/plain": [
       "2.3"
      ]
     },
     "execution_count": 32,
     "metadata": {},
     "output_type": "execute_result"
    }
   ],
   "source": [
    "wines[2,3]"
   ]
  },
  {
   "cell_type": "markdown",
   "id": "6f1b6ba1",
   "metadata": {},
   "source": [
    "#### Select first 3 items in 4th column\n"
   ]
  },
  {
   "cell_type": "code",
   "execution_count": 33,
   "id": "f5f392f3",
   "metadata": {},
   "outputs": [
    {
     "data": {
      "text/plain": [
       "array([1.9, 2.6, 2.3])"
      ]
     },
     "execution_count": 33,
     "metadata": {},
     "output_type": "execute_result"
    }
   ],
   "source": [
    "wines[:3, 3]"
   ]
  },
  {
   "cell_type": "markdown",
   "id": "08b7408c",
   "metadata": {},
   "source": [
    "#### Show 1st column"
   ]
  },
  {
   "cell_type": "code",
   "execution_count": 34,
   "id": "abc1e8d6",
   "metadata": {},
   "outputs": [
    {
     "data": {
      "text/plain": [
       "array([[ 7.4  ,  0.7  ,  0.   , ...,  0.56 ,  9.4  ,  5.   ],\n",
       "       [ 7.8  ,  0.88 ,  0.   , ...,  0.68 ,  9.8  ,  5.   ],\n",
       "       [ 7.8  ,  0.76 ,  0.04 , ...,  0.65 ,  9.8  ,  5.   ],\n",
       "       ...,\n",
       "       [ 6.3  ,  0.51 ,  0.13 , ...,  0.75 , 11.   ,  6.   ],\n",
       "       [ 5.9  ,  0.645,  0.12 , ...,  0.71 , 10.2  ,  5.   ],\n",
       "       [ 6.   ,  0.31 ,  0.47 , ...,  0.66 , 11.   ,  6.   ]])"
      ]
     },
     "execution_count": 34,
     "metadata": {},
     "output_type": "execute_result"
    }
   ],
   "source": [
    "wines[:]"
   ]
  },
  {
   "cell_type": "markdown",
   "id": "3b3012b5",
   "metadata": {},
   "source": [
    "#### Show 2nd row"
   ]
  },
  {
   "cell_type": "code",
   "execution_count": 35,
   "id": "6a72f5fc",
   "metadata": {},
   "outputs": [
    {
     "data": {
      "text/plain": [
       "array([ 7.8   ,  0.88  ,  0.    ,  2.6   ,  0.098 , 25.    , 67.    ,\n",
       "        0.9968,  3.2   ,  0.68  ,  9.8   ,  5.    ])"
      ]
     },
     "execution_count": 35,
     "metadata": {},
     "output_type": "execute_result"
    }
   ],
   "source": [
    "wines[1, :]"
   ]
  },
  {
   "cell_type": "markdown",
   "id": "a88dc8af",
   "metadata": {},
   "source": [
    "#### Select items from rows 1 to 3 and 5th column\n"
   ]
  },
  {
   "cell_type": "code",
   "execution_count": 36,
   "id": "c18596c4",
   "metadata": {},
   "outputs": [
    {
     "data": {
      "text/plain": [
       "array([0.098, 0.092, 0.075])"
      ]
     },
     "execution_count": 36,
     "metadata": {},
     "output_type": "execute_result"
    }
   ],
   "source": [
    "wines[1:4, 4]"
   ]
  },
  {
   "cell_type": "markdown",
   "id": "abcab503",
   "metadata": {},
   "source": [
    "#### Select entire array"
   ]
  },
  {
   "cell_type": "code",
   "execution_count": 37,
   "id": "72a8e443",
   "metadata": {},
   "outputs": [
    {
     "data": {
      "text/plain": [
       "array([[ 7.4  ,  0.7  ,  0.   , ...,  0.56 ,  9.4  ,  5.   ],\n",
       "       [ 7.8  ,  0.88 ,  0.   , ...,  0.68 ,  9.8  ,  5.   ],\n",
       "       [ 7.8  ,  0.76 ,  0.04 , ...,  0.65 ,  9.8  ,  5.   ],\n",
       "       ...,\n",
       "       [ 6.3  ,  0.51 ,  0.13 , ...,  0.75 , 11.   ,  6.   ],\n",
       "       [ 5.9  ,  0.645,  0.12 , ...,  0.71 , 10.2  ,  5.   ],\n",
       "       [ 6.   ,  0.31 ,  0.47 , ...,  0.66 , 11.   ,  6.   ]])"
      ]
     },
     "execution_count": 37,
     "metadata": {},
     "output_type": "execute_result"
    }
   ],
   "source": [
    "wines[:,:]"
   ]
  },
  {
   "cell_type": "markdown",
   "id": "8f878a6c",
   "metadata": {},
   "source": [
    "#### Change 1st value in wines to 100\n"
   ]
  },
  {
   "cell_type": "code",
   "execution_count": 38,
   "id": "03876b84",
   "metadata": {},
   "outputs": [
    {
     "data": {
      "text/plain": [
       "7.4"
      ]
     },
     "execution_count": 38,
     "metadata": {},
     "output_type": "execute_result"
    }
   ],
   "source": [
    "wines[0,0]"
   ]
  },
  {
   "cell_type": "code",
   "execution_count": 41,
   "id": "387a2316",
   "metadata": {},
   "outputs": [],
   "source": [
    "wines[0,0] = 100"
   ]
  },
  {
   "cell_type": "code",
   "execution_count": 40,
   "id": "079f60ee",
   "metadata": {},
   "outputs": [
    {
     "data": {
      "text/plain": [
       "100.0"
      ]
     },
     "execution_count": 40,
     "metadata": {},
     "output_type": "execute_result"
    }
   ],
   "source": [
    "wines[0,0] "
   ]
  },
  {
   "cell_type": "markdown",
   "id": "be80de9b",
   "metadata": {},
   "source": [
    "####  Change it back to 7.4 and print\n"
   ]
  },
  {
   "cell_type": "code",
   "execution_count": 42,
   "id": "da78f5df",
   "metadata": {},
   "outputs": [],
   "source": [
    "wines[0,0] = 7.4"
   ]
  },
  {
   "cell_type": "code",
   "execution_count": 43,
   "id": "0b184f54",
   "metadata": {},
   "outputs": [
    {
     "data": {
      "text/plain": [
       "7.4"
      ]
     },
     "execution_count": 43,
     "metadata": {},
     "output_type": "execute_result"
    }
   ],
   "source": [
    "wines[0,0]"
   ]
  },
  {
   "cell_type": "markdown",
   "id": "27087169",
   "metadata": {},
   "source": [
    "#### 1-Dimensional Numpy Arrays\n",
    "\n",
    "#### Select 4th row all column values"
   ]
  },
  {
   "cell_type": "code",
   "execution_count": 44,
   "id": "199fff75",
   "metadata": {},
   "outputs": [],
   "source": [
    "fourth_row = wines[3,]"
   ]
  },
  {
   "cell_type": "code",
   "execution_count": 45,
   "id": "090a5efa",
   "metadata": {},
   "outputs": [
    {
     "data": {
      "text/plain": [
       "array([11.2  ,  0.28 ,  0.56 ,  1.9  ,  0.075, 17.   , 60.   ,  0.998,\n",
       "        3.16 ,  0.58 ,  9.8  ,  6.   ])"
      ]
     },
     "execution_count": 45,
     "metadata": {},
     "output_type": "execute_result"
    }
   ],
   "source": [
    "fourth_row"
   ]
  },
  {
   "cell_type": "code",
   "execution_count": 46,
   "id": "ab6e692c",
   "metadata": {},
   "outputs": [
    {
     "data": {
      "text/plain": [
       "0.28"
      ]
     },
     "execution_count": 46,
     "metadata": {},
     "output_type": "execute_result"
    }
   ],
   "source": [
    "fourth_row[1]"
   ]
  },
  {
   "cell_type": "markdown",
   "id": "bc6f8e84",
   "metadata": {},
   "source": [
    "#### Convert wine data to integer values and show it"
   ]
  },
  {
   "cell_type": "code",
   "execution_count": 47,
   "id": "ed2d2e67",
   "metadata": {},
   "outputs": [
    {
     "data": {
      "text/plain": [
       "array([[ 7,  0,  0, ...,  0,  9,  5],\n",
       "       [ 7,  0,  0, ...,  0,  9,  5],\n",
       "       [ 7,  0,  0, ...,  0,  9,  5],\n",
       "       ...,\n",
       "       [ 6,  0,  0, ...,  0, 11,  6],\n",
       "       [ 5,  0,  0, ...,  0, 10,  5],\n",
       "       [ 6,  0,  0, ...,  0, 11,  6]])"
      ]
     },
     "execution_count": 47,
     "metadata": {},
     "output_type": "execute_result"
    }
   ],
   "source": [
    "wines.astype(int)"
   ]
  },
  {
   "cell_type": "markdown",
   "id": "3bc64ff3",
   "metadata": {},
   "source": [
    "#### Vectorization Operation\n",
    "\n",
    "#### Increase wine quality score (output variable) by 10"
   ]
  },
  {
   "cell_type": "code",
   "execution_count": 48,
   "id": "c9950d4b",
   "metadata": {},
   "outputs": [
    {
     "data": {
      "text/plain": [
       "array([5., 5., 5., ..., 6., 5., 6.])"
      ]
     },
     "execution_count": 48,
     "metadata": {},
     "output_type": "execute_result"
    }
   ],
   "source": [
    "wines[:,11]"
   ]
  },
  {
   "cell_type": "markdown",
   "id": "4aca1088",
   "metadata": {},
   "source": [
    "#### Increase by 10"
   ]
  },
  {
   "cell_type": "code",
   "execution_count": 49,
   "id": "b8c93ffb",
   "metadata": {},
   "outputs": [],
   "source": [
    "wines[:, 11] += 10"
   ]
  },
  {
   "cell_type": "markdown",
   "id": "60f0f10e",
   "metadata": {},
   "source": [
    "#### Display update score"
   ]
  },
  {
   "cell_type": "code",
   "execution_count": 50,
   "id": "42613dd7",
   "metadata": {},
   "outputs": [
    {
     "data": {
      "text/plain": [
       "array([15., 15., 15., ..., 16., 15., 16.])"
      ]
     },
     "execution_count": 50,
     "metadata": {},
     "output_type": "execute_result"
    }
   ],
   "source": [
    "wines[:, 11]"
   ]
  },
  {
   "cell_type": "markdown",
   "id": "7199c2b2",
   "metadata": {},
   "source": [
    "#### Multiply alcohol of all wine data by 3 times"
   ]
  },
  {
   "cell_type": "code",
   "execution_count": 51,
   "id": "b6f6ef44",
   "metadata": {},
   "outputs": [],
   "source": [
    "wines[:, 10] *= 3"
   ]
  },
  {
   "cell_type": "markdown",
   "id": "35e353eb",
   "metadata": {},
   "source": [
    "#### Show updated alcohol column"
   ]
  },
  {
   "cell_type": "code",
   "execution_count": 52,
   "id": "1b7150cb",
   "metadata": {},
   "outputs": [
    {
     "data": {
      "text/plain": [
       "array([28.2, 29.4, 29.4, ..., 33. , 30.6, 33. ])"
      ]
     },
     "execution_count": 52,
     "metadata": {},
     "output_type": "execute_result"
    }
   ],
   "source": [
    "wines[:, 10]"
   ]
  },
  {
   "cell_type": "markdown",
   "id": "3c5b166e",
   "metadata": {},
   "source": [
    "#### Add quality column by itselt\n"
   ]
  },
  {
   "cell_type": "code",
   "execution_count": 53,
   "id": "04b084ff",
   "metadata": {},
   "outputs": [
    {
     "data": {
      "text/plain": [
       "array([30., 30., 30., ..., 32., 30., 32.])"
      ]
     },
     "execution_count": 53,
     "metadata": {},
     "output_type": "execute_result"
    }
   ],
   "source": [
    "wines[:, 11] + wines[:, 11]"
   ]
  },
  {
   "cell_type": "markdown",
   "id": "a2ad3757",
   "metadata": {},
   "source": [
    "#### Multiply alcohol and wine quality columns. It will perform element wise multiplication\n"
   ]
  },
  {
   "cell_type": "code",
   "execution_count": 54,
   "id": "8e8fdeb6",
   "metadata": {},
   "outputs": [
    {
     "data": {
      "text/plain": [
       "array([423., 441., 441., ..., 528., 459., 528.])"
      ]
     },
     "execution_count": 54,
     "metadata": {},
     "output_type": "execute_result"
    }
   ],
   "source": [
    "wines[:,10] * wines[:,11]"
   ]
  },
  {
   "cell_type": "markdown",
   "id": "69ddc249",
   "metadata": {},
   "source": [
    "#### Broadcasting\n",
    "\n",
    "#### Add every row of wines data with a random array of values\n"
   ]
  },
  {
   "cell_type": "code",
   "execution_count": 55,
   "id": "799e1465",
   "metadata": {},
   "outputs": [],
   "source": [
    "rand_array=np.random.rand(12)"
   ]
  },
  {
   "cell_type": "markdown",
   "id": "5b77afe9",
   "metadata": {},
   "source": [
    "#### Show rand_array"
   ]
  },
  {
   "cell_type": "code",
   "execution_count": 56,
   "id": "a217adf6",
   "metadata": {},
   "outputs": [
    {
     "data": {
      "text/plain": [
       "array([0.57013749, 0.41723486, 0.07048208, 0.63356327, 0.40004755,\n",
       "       0.23290089, 0.14470312, 0.79693345, 0.44543633, 0.88587652,\n",
       "       0.68711421, 0.77106973])"
      ]
     },
     "execution_count": 56,
     "metadata": {},
     "output_type": "execute_result"
    }
   ],
   "source": [
    "rand_array"
   ]
  },
  {
   "cell_type": "markdown",
   "id": "9c76c734",
   "metadata": {},
   "source": [
    "#### add wines and rand_array"
   ]
  },
  {
   "cell_type": "code",
   "execution_count": null,
   "id": "cd0cbc6b",
   "metadata": {},
   "outputs": [],
   "source": []
  }
 ],
 "metadata": {
  "kernelspec": {
   "display_name": "Python 3 (ipykernel)",
   "language": "python",
   "name": "python3"
  },
  "language_info": {
   "codemirror_mode": {
    "name": "ipython",
    "version": 3
   },
   "file_extension": ".py",
   "mimetype": "text/x-python",
   "name": "python",
   "nbconvert_exporter": "python",
   "pygments_lexer": "ipython3",
   "version": "3.9.12"
  }
 },
 "nbformat": 4,
 "nbformat_minor": 5
}
