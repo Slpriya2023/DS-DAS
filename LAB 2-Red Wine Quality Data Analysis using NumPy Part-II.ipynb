{
 "cells": [
  {
   "cell_type": "markdown",
   "id": "f8b85dd4",
   "metadata": {},
   "source": [
    "\n",
    "\n",
    "\n",
    "\n",
    "\n",
    "\n",
    "\n",
    "\n",
    "\n",
    "\n",
    "\n",
    "\n",
    "\n",
    "\n",
    "\n",
    "\n",
    "\n",
    "\n",
    "\n",
    "\n",
    "\n",
    "\n",
    "\n",
    "\n",
    "\n",
    "\n",
    "\n",
    "\n",
    "\n",
    "\n",
    "\n",
    "\n",
    "\n",
    "\n",
    "\n",
    "\n",
    "\n",
    "\n",
    "\n",
    "\n",
    "\n",
    "\n",
    "\n",
    "\n",
    "\n",
    "\n",
    "\n",
    "\n",
    "\n",
    "\n",
    "\n",
    "\n",
    "\n",
    "\n",
    "\n",
    "\n",
    "\n",
    "\n",
    "\n",
    "\n",
    "\n",
    "\n",
    "\n",
    "\n",
    "\n",
    "\n",
    "\n",
    "\n",
    "\n",
    "\n",
    "## Lab2. Red Wine Quality Data Analysis using NumPy Part-II\n"
   ]
  },
  {
   "cell_type": "markdown",
   "id": "78afe228",
   "metadata": {},
   "source": [
    "#### Name:Harshavardhini K"
   ]
  },
  {
   "cell_type": "markdown",
   "id": "793b2edb",
   "metadata": {},
   "source": [
    "#### Rollno:235229108"
   ]
  },
  {
   "cell_type": "code",
   "execution_count": 19,
   "id": "8036374f",
   "metadata": {},
   "outputs": [],
   "source": [
    "import numpy as np"
   ]
  },
  {
   "cell_type": "code",
   "execution_count": 20,
   "id": "5e501c32",
   "metadata": {},
   "outputs": [],
   "source": [
    "wines = np.genfromtxt(\"winequality-red.csv\", delimiter=\";\", skip_header=1)"
   ]
  },
  {
   "cell_type": "markdown",
   "id": "497e683b",
   "metadata": {},
   "source": [
    "#### NumPy Aggregation Methods\n",
    "\n",
    "#### Find sum of all residual sugar values"
   ]
  },
  {
   "cell_type": "code",
   "execution_count": 21,
   "id": "6f6cc157",
   "metadata": {},
   "outputs": [
    {
     "data": {
      "text/plain": [
       "4059.550000000003"
      ]
     },
     "execution_count": 21,
     "metadata": {},
     "output_type": "execute_result"
    }
   ],
   "source": [
    "x=wines[:,3]\n",
    "sum(x)"
   ]
  },
  {
   "cell_type": "markdown",
   "id": "4d4cf68d",
   "metadata": {},
   "source": [
    "#### Find sums of every feature value. There are 12 features altogether"
   ]
  },
  {
   "cell_type": "code",
   "execution_count": 22,
   "id": "f86fd536",
   "metadata": {},
   "outputs": [
    {
     "data": {
      "text/plain": [
       "array([13303.1    ,   843.985  ,   433.29   ,  4059.55   ,   139.859  ,\n",
       "       25384.     , 74302.     ,  1593.79794,  5294.47   ,  1052.38   ,\n",
       "       16666.35   ,  9012.     ])"
      ]
     },
     "execution_count": 22,
     "metadata": {},
     "output_type": "execute_result"
    }
   ],
   "source": [
    "sum(wines)"
   ]
  },
  {
   "cell_type": "markdown",
   "id": "fb759511",
   "metadata": {},
   "source": [
    "#### Find sum of every row"
   ]
  },
  {
   "cell_type": "code",
   "execution_count": 23,
   "id": "ad6e811b",
   "metadata": {},
   "outputs": [
    {
     "data": {
      "text/plain": [
       "array([ 74.5438 , 123.0548 ,  99.699  , ..., 100.48174, 105.21547,\n",
       "        92.49249])"
      ]
     },
     "execution_count": 23,
     "metadata": {},
     "output_type": "execute_result"
    }
   ],
   "source": [
    "z=wines[:,:].sum(axis=1)\n",
    "z"
   ]
  },
  {
   "cell_type": "markdown",
   "id": "77f8d704",
   "metadata": {},
   "source": [
    "#### What is its size?"
   ]
  },
  {
   "cell_type": "code",
   "execution_count": 24,
   "id": "8ec10ad3",
   "metadata": {},
   "outputs": [
    {
     "data": {
      "text/plain": [
       "1599"
      ]
     },
     "execution_count": 24,
     "metadata": {},
     "output_type": "execute_result"
    }
   ],
   "source": [
    "len(wines)"
   ]
  },
  {
   "cell_type": "markdown",
   "id": "14a82d81",
   "metadata": {},
   "source": [
    "#### What is the maximum residual sugar value in red wines data?\n"
   ]
  },
  {
   "cell_type": "code",
   "execution_count": 25,
   "id": "a466f4ef",
   "metadata": {},
   "outputs": [
    {
     "data": {
      "text/plain": [
       "array([1, 2, 2, ..., 2, 2, 3])"
      ]
     },
     "execution_count": 25,
     "metadata": {},
     "output_type": "execute_result"
    }
   ],
   "source": [
    "a=wines[:,3]\n",
    "a=a.astype('int32')\n",
    "a\n"
   ]
  },
  {
   "cell_type": "markdown",
   "id": "cb513a98",
   "metadata": {},
   "source": [
    "#### find its maximum residual sugar value"
   ]
  },
  {
   "cell_type": "code",
   "execution_count": 26,
   "id": "9a236179",
   "metadata": {},
   "outputs": [
    {
     "data": {
      "text/plain": [
       "15"
      ]
     },
     "execution_count": 26,
     "metadata": {},
     "output_type": "execute_result"
    }
   ],
   "source": [
    "max(a)"
   ]
  },
  {
   "cell_type": "markdown",
   "id": "72e1c2f4",
   "metadata": {},
   "source": [
    "#### What is the minimum residual sugar value in red wines data?"
   ]
  },
  {
   "cell_type": "code",
   "execution_count": 27,
   "id": "4a182782",
   "metadata": {},
   "outputs": [
    {
     "data": {
      "text/plain": [
       "0"
      ]
     },
     "execution_count": 27,
     "metadata": {},
     "output_type": "execute_result"
    }
   ],
   "source": [
    "min(a)"
   ]
  },
  {
   "cell_type": "markdown",
   "id": "93f4029d",
   "metadata": {},
   "source": [
    "#### What is the average residual sugar value in red wines data?"
   ]
  },
  {
   "cell_type": "code",
   "execution_count": 28,
   "id": "ff07ef25",
   "metadata": {},
   "outputs": [
    {
     "data": {
      "text/plain": [
       "2.53880550343965"
      ]
     },
     "execution_count": 28,
     "metadata": {},
     "output_type": "execute_result"
    }
   ],
   "source": [
    "np.mean(x)"
   ]
  },
  {
   "cell_type": "markdown",
   "id": "13aa5870",
   "metadata": {},
   "source": [
    "#### What is 25 percentile residual sugar value?"
   ]
  },
  {
   "cell_type": "code",
   "execution_count": 29,
   "id": "25692cae",
   "metadata": {},
   "outputs": [
    {
     "data": {
      "text/plain": [
       "1.9"
      ]
     },
     "execution_count": 29,
     "metadata": {},
     "output_type": "execute_result"
    }
   ],
   "source": [
    "np.percentile(x,25)"
   ]
  },
  {
   "cell_type": "markdown",
   "id": "bccd4d77",
   "metadata": {},
   "source": [
    "#### What is 75 percentile residual sugar value?"
   ]
  },
  {
   "cell_type": "code",
   "execution_count": 30,
   "id": "45bfc7ad",
   "metadata": {},
   "outputs": [
    {
     "data": {
      "text/plain": [
       "2.6"
      ]
     },
     "execution_count": 30,
     "metadata": {},
     "output_type": "execute_result"
    }
   ],
   "source": [
    "np.percentile(x,75)"
   ]
  },
  {
   "cell_type": "markdown",
   "id": "3a12ccbc",
   "metadata": {},
   "source": [
    "#### Find the average of each feature value"
   ]
  },
  {
   "cell_type": "code",
   "execution_count": 31,
   "id": "c900de03",
   "metadata": {},
   "outputs": [
    {
     "data": {
      "text/plain": [
       "array([ 8.31963727,  0.52782051,  0.27097561,  2.5388055 ,  0.08746654,\n",
       "       15.87492183, 46.46779237,  0.99674668,  3.3111132 ,  0.65814884,\n",
       "       10.42298311,  5.63602251])"
      ]
     },
     "execution_count": 31,
     "metadata": {},
     "output_type": "execute_result"
    }
   ],
   "source": [
    "y=wines[:,:]\n",
    "y\n",
    "y.mean(axis=0)"
   ]
  },
  {
   "cell_type": "markdown",
   "id": "7aed07a6",
   "metadata": {},
   "source": [
    "#### NumPy Array Comparisons\n",
    "\n",
    "#### Show all wines with quality > 5"
   ]
  },
  {
   "cell_type": "code",
   "execution_count": 32,
   "id": "292bb7a6",
   "metadata": {},
   "outputs": [
    {
     "data": {
      "text/plain": [
       "array([False, False, False, ...,  True, False,  True])"
      ]
     },
     "execution_count": 32,
     "metadata": {},
     "output_type": "execute_result"
    }
   ],
   "source": [
    "wines[:,11]>5"
   ]
  },
  {
   "cell_type": "markdown",
   "id": "c6b8ceb7",
   "metadata": {},
   "source": [
    "#### Show all wines with quality > 7"
   ]
  },
  {
   "cell_type": "code",
   "execution_count": 33,
   "id": "4d5f8eaf",
   "metadata": {},
   "outputs": [
    {
     "data": {
      "text/plain": [
       "array([False, False, False, ..., False, False, False])"
      ]
     },
     "execution_count": 33,
     "metadata": {},
     "output_type": "execute_result"
    }
   ],
   "source": [
    "f=wines[:,11]>7\n",
    "f"
   ]
  },
  {
   "cell_type": "markdown",
   "id": "856d8b61",
   "metadata": {},
   "source": [
    "#### check if any wines value is True for the condition quality > 7"
   ]
  },
  {
   "cell_type": "code",
   "execution_count": 34,
   "id": "8af97d2d",
   "metadata": {},
   "outputs": [
    {
     "data": {
      "text/plain": [
       "True"
      ]
     },
     "execution_count": 34,
     "metadata": {},
     "output_type": "execute_result"
    }
   ],
   "source": [
    "True in f"
   ]
  },
  {
   "cell_type": "markdown",
   "id": "891c9cf3",
   "metadata": {},
   "source": [
    "#### Show first 3 rows where wine quality > 7, call it high_quality"
   ]
  },
  {
   "cell_type": "code",
   "execution_count": 35,
   "id": "e2c73b51",
   "metadata": {},
   "outputs": [
    {
     "data": {
      "text/plain": [
       "[array([False, False, False, ..., False, False, False])]"
      ]
     },
     "execution_count": 35,
     "metadata": {},
     "output_type": "execute_result"
    }
   ],
   "source": [
    "high_quality=[wines[:,11]>7][:3]\n",
    "high_quality"
   ]
  },
  {
   "cell_type": "markdown",
   "id": "d650acd1",
   "metadata": {},
   "source": [
    "#### Show only top 3 rows and all columns of high_quality wines data\n"
   ]
  },
  {
   "cell_type": "code",
   "execution_count": 36,
   "id": "6247a9bf",
   "metadata": {},
   "outputs": [
    {
     "name": "stderr",
     "output_type": "stream",
     "text": [
      "C:\\Users\\1mscds08\\AppData\\Local\\Temp\\ipykernel_15692\\4022932719.py:1: FutureWarning: Using a non-tuple sequence for multidimensional indexing is deprecated; use `arr[tuple(seq)]` instead of `arr[seq]`. In the future this will be interpreted as an array index, `arr[np.array(seq)]`, which will result either in an error or a different result.\n",
      "  wines[high_quality][0:3]\n"
     ]
    },
    {
     "data": {
      "text/plain": [
       "array([[7.900e+00, 3.500e-01, 4.600e-01, 3.600e+00, 7.800e-02, 1.500e+01,\n",
       "        3.700e+01, 9.973e-01, 3.350e+00, 8.600e-01, 1.280e+01, 8.000e+00],\n",
       "       [1.030e+01, 3.200e-01, 4.500e-01, 6.400e+00, 7.300e-02, 5.000e+00,\n",
       "        1.300e+01, 9.976e-01, 3.230e+00, 8.200e-01, 1.260e+01, 8.000e+00],\n",
       "       [5.600e+00, 8.500e-01, 5.000e-02, 1.400e+00, 4.500e-02, 1.200e+01,\n",
       "        8.800e+01, 9.924e-01, 3.560e+00, 8.200e-01, 1.290e+01, 8.000e+00]])"
      ]
     },
     "execution_count": 36,
     "metadata": {},
     "output_type": "execute_result"
    }
   ],
   "source": [
    "wines[high_quality][0:3]"
   ]
  },
  {
   "cell_type": "markdown",
   "id": "2fff9c9c",
   "metadata": {},
   "source": [
    "#### Show wines with a lot of alcohol > 10 and high wine quality > 7"
   ]
  },
  {
   "cell_type": "code",
   "execution_count": 37,
   "id": "33a9bff2",
   "metadata": {},
   "outputs": [
    {
     "data": {
      "text/plain": [
       "array([False, False, False, ..., False, False, False])"
      ]
     },
     "execution_count": 37,
     "metadata": {},
     "output_type": "execute_result"
    }
   ],
   "source": [
    "b=(wines[:,10]>10)&(wines[:,11]>7)\n",
    "b"
   ]
  },
  {
   "cell_type": "markdown",
   "id": "58486d58",
   "metadata": {},
   "source": [
    "#### show only alcohol and wine quality columns"
   ]
  },
  {
   "cell_type": "code",
   "execution_count": null,
   "id": "719d4001",
   "metadata": {},
   "outputs": [],
   "source": [
    "wines[b,10:]"
   ]
  },
  {
   "cell_type": "markdown",
   "id": "e807b59c",
   "metadata": {},
   "source": [
    "#### Combining NumPy Arrays\n"
   ]
  },
  {
   "cell_type": "markdown",
   "id": "cf324d9c",
   "metadata": {},
   "source": [
    "#### Combine red wine and white wine data"
   ]
  },
  {
   "cell_type": "markdown",
   "id": "53805e9b",
   "metadata": {},
   "source": [
    "#### Open white wine dataset"
   ]
  },
  {
   "cell_type": "code",
   "execution_count": 39,
   "id": "a7f79763",
   "metadata": {},
   "outputs": [],
   "source": [
    "white_wines = np.genfromtxt(\"winequality-white.csv\", delimiter=\";\", skip_header=1)"
   ]
  },
  {
   "cell_type": "markdown",
   "id": "8ba7c832",
   "metadata": {},
   "source": [
    "#### Show size of white_wines"
   ]
  },
  {
   "cell_type": "code",
   "execution_count": 40,
   "id": "48b99ba7",
   "metadata": {},
   "outputs": [
    {
     "data": {
      "text/plain": [
       "(4898, 12)"
      ]
     },
     "execution_count": 40,
     "metadata": {},
     "output_type": "execute_result"
    }
   ],
   "source": [
    "white_wines.shape"
   ]
  },
  {
   "cell_type": "markdown",
   "id": "1f3e0b6c",
   "metadata": {},
   "source": [
    "#### combine wines and white_wines data frames using vstack and call it all_wines"
   ]
  },
  {
   "cell_type": "code",
   "execution_count": 41,
   "id": "d49e9d66",
   "metadata": {},
   "outputs": [],
   "source": [
    "all_wines=np.vstack((wines,white_wines))"
   ]
  },
  {
   "cell_type": "code",
   "execution_count": 42,
   "id": "bd3c5d2b",
   "metadata": {},
   "outputs": [
    {
     "data": {
      "text/plain": [
       "(6497, 12)"
      ]
     },
     "execution_count": 42,
     "metadata": {},
     "output_type": "execute_result"
    }
   ],
   "source": [
    "all_wines.shape"
   ]
  },
  {
   "cell_type": "markdown",
   "id": "b844a4eb",
   "metadata": {},
   "source": [
    "#### Combine wines and white_wines data frames using concatenate method"
   ]
  },
  {
   "cell_type": "code",
   "execution_count": 43,
   "id": "dd7a6b8d",
   "metadata": {},
   "outputs": [],
   "source": [
    "all_wines1=np.concatenate((wines,white_wines),axis=0)"
   ]
  },
  {
   "cell_type": "code",
   "execution_count": 44,
   "id": "45ff0253",
   "metadata": {},
   "outputs": [
    {
     "data": {
      "text/plain": [
       "(6497, 12)"
      ]
     },
     "execution_count": 44,
     "metadata": {},
     "output_type": "execute_result"
    }
   ],
   "source": [
    "all_wines1.shape"
   ]
  },
  {
   "cell_type": "markdown",
   "id": "85c22962",
   "metadata": {},
   "source": [
    "#### Matrix Operations and Reshape\n",
    "\n",
    "#### Find Transpose of wines and print its size\n"
   ]
  },
  {
   "cell_type": "code",
   "execution_count": 45,
   "id": "5480caa5",
   "metadata": {},
   "outputs": [
    {
     "data": {
      "text/plain": [
       "(12, 1599)"
      ]
     },
     "execution_count": 45,
     "metadata": {},
     "output_type": "execute_result"
    }
   ],
   "source": [
    "tran=wines.T\n",
    "tran.shape"
   ]
  },
  {
   "cell_type": "markdown",
   "id": "a5a4008d",
   "metadata": {},
   "source": [
    "#### Convert wines data into 1D array"
   ]
  },
  {
   "cell_type": "code",
   "execution_count": 46,
   "id": "ea117ce7",
   "metadata": {},
   "outputs": [
    {
     "data": {
      "text/plain": [
       "array([ 7.4 ,  0.7 ,  0.  , ...,  0.66, 11.  ,  6.  ])"
      ]
     },
     "execution_count": 46,
     "metadata": {},
     "output_type": "execute_result"
    }
   ],
   "source": [
    "wines.ravel()"
   ]
  },
  {
   "cell_type": "markdown",
   "id": "540c6602",
   "metadata": {},
   "source": [
    "#### Reshape second row of wines into a 2-dimensional array with 2 rows an"
   ]
  },
  {
   "cell_type": "code",
   "execution_count": 47,
   "id": "a1547c18",
   "metadata": {},
   "outputs": [
    {
     "data": {
      "text/plain": [
       "array([[ 7.8   ,  0.88  ,  0.    ,  2.6   ,  0.098 , 25.    ],\n",
       "       [67.    ,  0.9968,  3.2   ,  0.68  ,  9.8   ,  5.    ]])"
      ]
     },
     "execution_count": 47,
     "metadata": {},
     "output_type": "execute_result"
    }
   ],
   "source": [
    "wines[1].reshape((2,6))"
   ]
  },
  {
   "cell_type": "markdown",
   "id": "5d19fdf3",
   "metadata": {},
   "source": [
    "#### Sort alcohol column Ascending Order\n"
   ]
  },
  {
   "cell_type": "code",
   "execution_count": 48,
   "id": "a60fe10d",
   "metadata": {},
   "outputs": [],
   "source": [
    "sorted_alcohol=np.sort(wines[:,-2])"
   ]
  },
  {
   "cell_type": "code",
   "execution_count": 49,
   "id": "873d30c9",
   "metadata": {},
   "outputs": [
    {
     "data": {
      "text/plain": [
       "array([ 8.4,  8.4,  8.5, ..., 14. , 14. , 14.9])"
      ]
     },
     "execution_count": 49,
     "metadata": {},
     "output_type": "execute_result"
    }
   ],
   "source": [
    "sorted_alcohol"
   ]
  },
  {
   "cell_type": "markdown",
   "id": "f185d4d9",
   "metadata": {},
   "source": [
    "#### Make sorting to take place in-place"
   ]
  },
  {
   "cell_type": "code",
   "execution_count": 50,
   "id": "d4c5448c",
   "metadata": {},
   "outputs": [],
   "source": [
    "wines[:,-2].sort()"
   ]
  },
  {
   "cell_type": "code",
   "execution_count": 51,
   "id": "7803fb29",
   "metadata": {},
   "outputs": [
    {
     "data": {
      "text/plain": [
       "array([ 8.4,  8.4,  8.5, ..., 14. , 14. , 14.9])"
      ]
     },
     "execution_count": 51,
     "metadata": {},
     "output_type": "execute_result"
    }
   ],
   "source": [
    "wines[:,-2]"
   ]
  },
  {
   "cell_type": "markdown",
   "id": "92144f2f",
   "metadata": {},
   "source": [
    "#### Show top 10 rows"
   ]
  },
  {
   "cell_type": "code",
   "execution_count": 52,
   "id": "02bb4e05",
   "metadata": {},
   "outputs": [
    {
     "data": {
      "text/plain": [
       "array([ 8.4,  8.4,  8.5, ..., 14. , 14. , 14.9])"
      ]
     },
     "execution_count": 52,
     "metadata": {},
     "output_type": "execute_result"
    }
   ],
   "source": [
    "wines[:,-2]"
   ]
  },
  {
   "cell_type": "markdown",
   "id": "d4a8dbca",
   "metadata": {},
   "source": [
    "#### Sort alcohol column Descending Order\n"
   ]
  },
  {
   "cell_type": "code",
   "execution_count": 53,
   "id": "f0349789",
   "metadata": {},
   "outputs": [],
   "source": [
    "sorted_alcohol_desc=np.sort(wines[:,10])[::-1]"
   ]
  },
  {
   "cell_type": "code",
   "execution_count": 54,
   "id": "f79b01cb",
   "metadata": {},
   "outputs": [
    {
     "data": {
      "text/plain": [
       "array([14.9, 14. , 14. , ...,  8.5,  8.4,  8.4])"
      ]
     },
     "execution_count": 54,
     "metadata": {},
     "output_type": "execute_result"
    }
   ],
   "source": [
    "sorted_alcohol_desc"
   ]
  },
  {
   "cell_type": "markdown",
   "id": "eae3b73a",
   "metadata": {},
   "source": [
    "#### will original data be modified?. Check top 10 rows"
   ]
  },
  {
   "cell_type": "code",
   "execution_count": 55,
   "id": "95908282",
   "metadata": {},
   "outputs": [
    {
     "data": {
      "text/plain": [
       "array([ 8.4,  8.4,  8.5, ..., 14. , 14. , 14.9])"
      ]
     },
     "execution_count": 55,
     "metadata": {},
     "output_type": "execute_result"
    }
   ],
   "source": [
    "wines[:,-2]"
   ]
  },
  {
   "cell_type": "code",
   "execution_count": null,
   "id": "14fd0c28",
   "metadata": {},
   "outputs": [],
   "source": []
  }
 ],
 "metadata": {
  "kernelspec": {
   "display_name": "Python 3 (ipykernel)",
   "language": "python",
   "name": "python3"
  },
  "language_info": {
   "codemirror_mode": {
    "name": "ipython",
    "version": 3
   },
   "file_extension": ".py",
   "mimetype": "text/x-python",
   "name": "python",
   "nbconvert_exporter": "python",
   "pygments_lexer": "ipython3",
   "version": "3.9.12"
  }
 },
 "nbformat": 4,
 "nbformat_minor": 5
}
